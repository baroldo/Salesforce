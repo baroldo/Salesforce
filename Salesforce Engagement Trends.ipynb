{
 "cells": [
  {
   "cell_type": "code",
   "execution_count": null,
   "id": "2abf32ad",
   "metadata": {},
   "outputs": [],
   "source": [
    "import pandas as pd\n",
    "import matplotlib.pyplot as plt\n",
    "import seaborn as sns\n",
    "\n",
    "# --- Load your Salesforce data (replace with your file path or DataFrame) ---\n",
    "# Example CSV: 'salesforce_opportunities.csv'\n",
    "df = pd.read_csv('salesforce_opportunities.csv', parse_dates=['Opportunity_Created'])\n",
    "\n",
    "# --- Step 1: Get first interaction per customer ---\n",
    "df['First_Interaction'] = df.groupby('Customer_ID')['Opportunity_Created'].transform('min')\n",
    "\n",
    "# --- Step 2: Calculate months since first interaction ---\n",
    "df['Months_Since_First_Interaction'] = ((df['Opportunity_Created'] - df['First_Interaction']) / pd.Timedelta(days=30)).round().astype(int)\n",
    "\n",
    "# --- Step 3: Aggregate product inquiries by lifecycle stage ---\n",
    "product_timeline = (\n",
    "    df.groupby(['Product_Name', 'Months_Since_First_Interaction'])\n",
    "    .size()\n",
    "    .reset_index(name='Inquiry_Count')\n",
    ")\n",
    "\n",
    "# --- Step 4: Pivot for visualization ---\n",
    "timeline_pivot = product_timeline.pivot(\n",
    "    index='Months_Since_First_Interaction',\n",
    "    columns='Product_Name',\n",
    "    values='Inquiry_Count'\n",
    ").fillna(0)\n",
    "\n",
    "# --- Step 5: Plot heatmap ---\n",
    "plt.figure(figsize=(14, 6))\n",
    "sns.heatmap(timeline_pivot, cmap='YlGnBu', linewidths=0.5, annot=True, fmt='.0f')\n",
    "plt.title('Customer Product Inquiries Over Lifecycle')\n",
    "plt.xlabel('Product')\n",
    "plt.ylabel('Months Since First Interaction')\n",
    "plt.tight_layout()\n",
    "plt.show()\n"
   ]
  }
 ],
 "metadata": {
  "language_info": {
   "name": "python"
  }
 },
 "nbformat": 4,
 "nbformat_minor": 5
}
